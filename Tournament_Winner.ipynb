{
  "nbformat": 4,
  "nbformat_minor": 0,
  "metadata": {
    "colab": {
      "name": "Tournament Winner.ipynb",
      "provenance": [],
      "authorship_tag": "ABX9TyMDrvOVzZS/NqDT2w/MTy5l",
      "include_colab_link": true
    },
    "kernelspec": {
      "name": "python3",
      "display_name": "Python 3"
    },
    "language_info": {
      "name": "python"
    }
  },
  "cells": [
    {
      "cell_type": "markdown",
      "metadata": {
        "id": "view-in-github",
        "colab_type": "text"
      },
      "source": [
        "<a href=\"https://colab.research.google.com/github/saima8/DS-and-Algo/blob/main/Tournament_Winner.ipynb\" target=\"_parent\"><img src=\"https://colab.research.google.com/assets/colab-badge.svg\" alt=\"Open In Colab\"/></a>"
      ]
    },
    {
      "cell_type": "markdown",
      "metadata": {
        "id": "GY7lRSjLWn-E"
      },
      "source": [
        "## Solution"
      ]
    },
    {
      "cell_type": "code",
      "metadata": {
        "colab": {
          "base_uri": "https://localhost:8080/",
          "height": 35
        },
        "id": "DXEVNlxvWi7k",
        "outputId": "f6638b33-1697-441a-94c1-82bd69455cf5"
      },
      "source": [
        "HOME_TEAM_WON = 1\n",
        "\n",
        "def tournamentWinner(competitions, results):\n",
        "  currentBestTeam = \"\"\n",
        "  scores = {currentBestTeam: 0 }\n",
        "\n",
        "  for idx, competition in enumerate(competitions):\n",
        "    result = results[idx]\n",
        "    hometeam, awayteam = competition\n",
        "\n",
        "    winningTeam = hometeam if result == HOME_TEAM_WON else awayteam\n",
        "\n",
        "    updateScores(winningTeam, 3, scores)\n",
        "\n",
        "    if scores[winningTeam] > scores[currentBestTeam]:\n",
        "      currentBestTeam = winningTeam\n",
        "\n",
        "  return currentBestTeam\n",
        "\n",
        "def updateScores(team, points, scores):\n",
        "  if team not in scores:\n",
        "    scores[team] = 0\n",
        "\n",
        "  scores[team] += points\n",
        "\n",
        "tournamentWinner([\n",
        "                  [\"HTML\",\"C#\"],\n",
        "                  [\"C#\",\"Python\"],\n",
        "                  [\"Python\",\"HTML\"],\n",
        "                  ], [0, 0, 1])"
      ],
      "execution_count": 2,
      "outputs": [
        {
          "output_type": "execute_result",
          "data": {
            "application/vnd.google.colaboratory.intrinsic+json": {
              "type": "string"
            },
            "text/plain": [
              "'Python'"
            ]
          },
          "metadata": {},
          "execution_count": 2
        }
      ]
    },
    {
      "cell_type": "markdown",
      "metadata": {
        "id": "pEfAWcjTWq0Z"
      },
      "source": [
        "Time Complexity: **O(n)**\n",
        "\n",
        "Space Complexity: **O(k)**\n",
        "\n",
        "n - is the no. of **competitions**\n",
        "\n",
        "k - is the no. of **results**"
      ]
    }
  ]
}
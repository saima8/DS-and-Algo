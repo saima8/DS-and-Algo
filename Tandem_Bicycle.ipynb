{
  "nbformat": 4,
  "nbformat_minor": 0,
  "metadata": {
    "colab": {
      "name": "Tandem Bicycle.ipynb",
      "provenance": [],
      "authorship_tag": "ABX9TyPwuYumVTsXk70fs5gdOEoS",
      "include_colab_link": true
    },
    "kernelspec": {
      "name": "python3",
      "display_name": "Python 3"
    },
    "language_info": {
      "name": "python"
    }
  },
  "cells": [
    {
      "cell_type": "markdown",
      "metadata": {
        "id": "view-in-github",
        "colab_type": "text"
      },
      "source": [
        "<a href=\"https://colab.research.google.com/github/saima8/DS-and-Algo/blob/main/Tandem_Bicycle.ipynb\" target=\"_parent\"><img src=\"https://colab.research.google.com/assets/colab-badge.svg\" alt=\"Open In Colab\"/></a>"
      ]
    },
    {
      "cell_type": "code",
      "metadata": {
        "id": "i7gjekVDjb80"
      },
      "source": [
        "def tandemBicycle(redShirtSpeeds, blueShirtSpeeds, fastest):\n",
        "    # Write your code here.\n",
        "    redShirtSpeeds.sort()\n",
        "    blueShirtSpeeds.sort()\n",
        "\n",
        "    if not fastest:\n",
        "      reverseArrayInPlace(redShirtSpeeds)\n",
        "      \n",
        "    totalSpeed = 0\n",
        "    for idx in range(len(redShirtSpeeds)):\n",
        "      rider1 = redShirtSpeeds[idx]\n",
        "      rider2 = blueShirtSpeeds[len(blueShirtSpeeds) - idx -1]\n",
        "      totalSpeed += max(rider1, rider2)\n",
        "      \n",
        "    return totalSpeed\n",
        "\n",
        "def reverseArrayInPlace(array):\n",
        "\tstart = 0\n",
        "\tend = len(array) - 1\n",
        "\twhile start < end:\n",
        "\t\tarray[start], array[end] = array[end], array[start]\n",
        "\t\t\n",
        "\t\tstart += 1\n",
        "\t\tend -= 1"
      ],
      "execution_count": 2,
      "outputs": []
    },
    {
      "cell_type": "code",
      "metadata": {
        "colab": {
          "base_uri": "https://localhost:8080/"
        },
        "id": "R2xuVV0HjnSD",
        "outputId": "9ce11b2d-609f-4c59-86cc-67f0a6ec0ec9"
      },
      "source": [
        "tandemBicycle([5, 5, 3, 9, 2], [3, 6, 7, 2, 1], True)"
      ],
      "execution_count": 4,
      "outputs": [
        {
          "output_type": "execute_result",
          "data": {
            "text/plain": [
              "32"
            ]
          },
          "metadata": {},
          "execution_count": 4
        }
      ]
    },
    {
      "cell_type": "markdown",
      "metadata": {
        "id": "hry-HnHIj8Yx"
      },
      "source": [
        "Time: **O(nlog(n))**\n",
        "\n",
        "Space: **O(1)**"
      ]
    }
  ]
}
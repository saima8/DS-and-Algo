{
  "nbformat": 4,
  "nbformat_minor": 0,
  "metadata": {
    "colab": {
      "name": "Class Photos.ipynb",
      "provenance": [],
      "authorship_tag": "ABX9TyPgT1NDqhN+Ws/M9FYdtXOa",
      "include_colab_link": true
    },
    "kernelspec": {
      "name": "python3",
      "display_name": "Python 3"
    },
    "language_info": {
      "name": "python"
    }
  },
  "cells": [
    {
      "cell_type": "markdown",
      "metadata": {
        "id": "view-in-github",
        "colab_type": "text"
      },
      "source": [
        "<a href=\"https://colab.research.google.com/github/saima8/DS-and-Algo/blob/main/Class_Photos.ipynb\" target=\"_parent\"><img src=\"https://colab.research.google.com/assets/colab-badge.svg\" alt=\"Open In Colab\"/></a>"
      ]
    },
    {
      "cell_type": "code",
      "metadata": {
        "id": "z9z8Kcpl9v_1"
      },
      "source": [
        "def classPhotos(redShirtHeights, blueShirtHeights):\n",
        "    # Write your code here.\n",
        "\tredShirtHeights.sort(reverse = True)\n",
        "\tblueShirtHeights.sort(reverse = True)\n",
        "    \n",
        "\tshirtColorInFirstRow = \"RED\" if redShirtHeights[0] < blueShirtHeights[0] else \"BLUE\"\n",
        "\t\n",
        "\tfor idx in range(len(blueShirtHeights)):\n",
        "\t\tblueShirtHeight = blueShirtHeights[idx]\n",
        "\t\tredShirtHeight = redShirtHeights[idx]\n",
        "\t\t\n",
        "\t\tif shirtColorInFirstRow == \"RED\":\n",
        "\t\t\tif redShirtHeight >= blueShirtHeight:\n",
        "\t\t\t\treturn False\n",
        "\t\telse:\n",
        "\t\t\tif blueShirtHeight >= redShirtHeight:\n",
        "\t\t\t\treturn False\n",
        "\treturn True"
      ],
      "execution_count": 1,
      "outputs": []
    },
    {
      "cell_type": "code",
      "metadata": {
        "colab": {
          "base_uri": "https://localhost:8080/"
        },
        "id": "o5TQX8Fa91wY",
        "outputId": "23430d69-7e62-485a-e6ab-032c151c5731"
      },
      "source": [
        "classPhotos([5, 8,1, 3, 4], [6, 9, 2, 4, 5])"
      ],
      "execution_count": 2,
      "outputs": [
        {
          "output_type": "execute_result",
          "data": {
            "text/plain": [
              "True"
            ]
          },
          "metadata": {},
          "execution_count": 2
        }
      ]
    },
    {
      "cell_type": "markdown",
      "metadata": {
        "id": "TfjxiPsf9_sl"
      },
      "source": [
        "Time: O(nlog(n))\n",
        "\n",
        "Space: O(1)"
      ]
    }
  ]
}
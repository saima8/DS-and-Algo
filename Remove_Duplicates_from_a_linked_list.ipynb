{
  "nbformat": 4,
  "nbformat_minor": 0,
  "metadata": {
    "colab": {
      "name": "Remove Duplicates from a linked list.ipynb",
      "provenance": [],
      "authorship_tag": "ABX9TyP8eN+X6kPbHn9jBFh1mMOW",
      "include_colab_link": true
    },
    "kernelspec": {
      "name": "python3",
      "display_name": "Python 3"
    },
    "language_info": {
      "name": "python"
    }
  },
  "cells": [
    {
      "cell_type": "markdown",
      "metadata": {
        "id": "view-in-github",
        "colab_type": "text"
      },
      "source": [
        "<a href=\"https://colab.research.google.com/github/saima8/DS-and-Algo/blob/main/Remove_Duplicates_from_a_linked_list.ipynb\" target=\"_parent\"><img src=\"https://colab.research.google.com/assets/colab-badge.svg\" alt=\"Open In Colab\"/></a>"
      ]
    },
    {
      "cell_type": "code",
      "metadata": {
        "id": "SkiYjHXn7dWM"
      },
      "source": [
        "class LinkedList:\n",
        "    def __init__(self, value):\n",
        "        self.value = value\n",
        "        self.next = None\n",
        "\n",
        "\n",
        "def removeDuplicatesFromLinkedList(linkedList):\n",
        "    # Write your code here.\n",
        "    currentNode = linkedList\n",
        "    while currentNode is not None:\n",
        "      nextDistinctNode = currentNode.next\n",
        "      while nextDistinctNode is not None and nextDistinctNode.value == currentNode.value:\n",
        "        nextDistinctNode = nextDistinctNode.next\n",
        "\n",
        "      currentNode.next = nextDistinctNode\n",
        "      currentNode = nextDistinctNode\n",
        "    return linkedList"
      ],
      "execution_count": 1,
      "outputs": []
    },
    {
      "cell_type": "markdown",
      "metadata": {
        "id": "bKlso0J28yZ0"
      },
      "source": [
        "Time: **O(n)** as  we didn't traverse the same value in two while loops\n",
        "\n",
        "Space: **O(1)**"
      ]
    }
  ]
}
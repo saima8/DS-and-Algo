{
  "nbformat": 4,
  "nbformat_minor": 0,
  "metadata": {
    "colab": {
      "name": "Run Length Encoding.ipynb",
      "provenance": [],
      "authorship_tag": "ABX9TyMCEl4VvwICaJDCX6Cq+Mhh",
      "include_colab_link": true
    },
    "kernelspec": {
      "name": "python3",
      "display_name": "Python 3"
    },
    "language_info": {
      "name": "python"
    }
  },
  "cells": [
    {
      "cell_type": "markdown",
      "metadata": {
        "id": "view-in-github",
        "colab_type": "text"
      },
      "source": [
        "<a href=\"https://colab.research.google.com/github/saima8/DS-and-Algo/blob/main/Run_Length_Encoding.ipynb\" target=\"_parent\"><img src=\"https://colab.research.google.com/assets/colab-badge.svg\" alt=\"Open In Colab\"/></a>"
      ]
    },
    {
      "cell_type": "code",
      "metadata": {
        "id": "kDS2qZqDQoq4"
      },
      "source": [
        "def runLengthEncoding(string):\n",
        "    # Write your code here.\n",
        "    encodedStringCharacters = []\n",
        "    currentRunLength = 1\n",
        "    \n",
        "    for i in range(1, len(string)):\n",
        "      currentCharacter = string[i]\n",
        "      previousCharacter = string[i - 1]\n",
        "      \n",
        "      if currentCharacter != previousCharacter or currentRunLength == 9:\n",
        "        encodedStringCharacters.append(str(currentRunLength))\n",
        "        encodedStringCharacters.append(previousCharacter)\n",
        "        currentRunLength = 0\n",
        "        \n",
        "      currentRunLength += 1\n",
        "        \n",
        "    # Handle the last run\n",
        "    encodedStringCharacters.append(str(currentRunLength))\n",
        "    encodedStringCharacters.append(string[len(string) - 1])\n",
        "    \n",
        "    return \"\".join(encodedStringCharacters)\n"
      ],
      "execution_count": 4,
      "outputs": []
    },
    {
      "cell_type": "code",
      "metadata": {
        "colab": {
          "base_uri": "https://localhost:8080/",
          "height": 35
        },
        "id": "UWSmWr5qSjYz",
        "outputId": "cef9e7a5-4ac8-4dc1-ddfe-69e04c8126ab"
      },
      "source": [
        "runLengthEncoding(\"AAAAAAAAAAAAABBCCCCDD\")"
      ],
      "execution_count": 5,
      "outputs": [
        {
          "output_type": "execute_result",
          "data": {
            "application/vnd.google.colaboratory.intrinsic+json": {
              "type": "string"
            },
            "text/plain": [
              "'9A4A2B4C2D'"
            ]
          },
          "metadata": {},
          "execution_count": 5
        }
      ]
    },
    {
      "cell_type": "markdown",
      "metadata": {
        "id": "UWGNxbhyS96d"
      },
      "source": [
        "Time : **O(n)**\n",
        "\n",
        "Space : **O(n)**\n",
        "\n",
        "where n is length of the input string.\n",
        "\n",
        "The input string is guaranteed to be non-empty, so our first run will be of at least length 1"
      ]
    }
  ]
}
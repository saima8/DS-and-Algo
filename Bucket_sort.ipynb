{
  "nbformat": 4,
  "nbformat_minor": 0,
  "metadata": {
    "colab": {
      "name": "Bucket sort.ipynb",
      "provenance": [],
      "authorship_tag": "ABX9TyPyt9lmSz7Ggeffq/0r5vQg",
      "include_colab_link": true
    },
    "kernelspec": {
      "name": "python3",
      "display_name": "Python 3"
    },
    "language_info": {
      "name": "python"
    }
  },
  "cells": [
    {
      "cell_type": "markdown",
      "metadata": {
        "id": "view-in-github",
        "colab_type": "text"
      },
      "source": [
        "<a href=\"https://colab.research.google.com/github/saima8/DS-and-Algo/blob/main/Bucket_sort.ipynb\" target=\"_parent\"><img src=\"https://colab.research.google.com/assets/colab-badge.svg\" alt=\"Open In Colab\"/></a>"
      ]
    },
    {
      "cell_type": "markdown",
      "metadata": {
        "id": "2nIDCUfquoUb"
      },
      "source": [
        "**1**"
      ]
    },
    {
      "cell_type": "code",
      "metadata": {
        "colab": {
          "base_uri": "https://localhost:8080/"
        },
        "id": "FIrpPdeYnXOC",
        "outputId": "88ecb807-1675-44c4-a65e-fdb2897cb023"
      },
      "source": [
        "#geeksforgeeks\n",
        "\n",
        "def insertionSort(b):\n",
        "  for i in range(1, len(b)):\n",
        "    up = b[i]\n",
        "    j = i - 1\n",
        "    while j >= 0 and b[j] > up:\n",
        "      b[j + 1] = b[j]\n",
        "      j -= 1\n",
        "    b[j+1] = up\n",
        "\n",
        "  return b\n",
        "\n",
        "def bucketSort(x):\n",
        "  arr = []\n",
        "  slot_num = 10\n",
        "  for i in range(slot_num):\n",
        "    arr.append([])\n",
        "\n",
        "  # put array elements in different buckets\n",
        "  for j in x:\n",
        "    index_b = int(slot_num * j)\n",
        "    arr[index_b].append(j)\n",
        "\n",
        "  #sort individual buckets\n",
        "  for i in range(slot_num):\n",
        "    arr[i] = insertionSort(arr[i])\n",
        "\n",
        "  #concatenate the result\n",
        "  k = 0\n",
        "  for i in range(slot_num):\n",
        "    for j in range(len(arr[i])):\n",
        "      x[k] = arr[i][j]\n",
        "      k += 1\n",
        "  return x \n",
        "\n",
        "x = [0.897, 0.565, 0.656,\n",
        "     0.1234, 0.665, 0.3434]\n",
        "print(\"Sorted Array is\")\n",
        "print(bucketSort(x))"
      ],
      "execution_count": 1,
      "outputs": [
        {
          "output_type": "stream",
          "name": "stdout",
          "text": [
            "Sorted Array is\n",
            "[0.1234, 0.3434, 0.565, 0.656, 0.665, 0.897]\n"
          ]
        }
      ]
    },
    {
      "cell_type": "markdown",
      "metadata": {
        "id": "nWkJg8LvwCpi"
      },
      "source": [
        "**2**"
      ]
    },
    {
      "cell_type": "code",
      "metadata": {
        "colab": {
          "base_uri": "https://localhost:8080/"
        },
        "id": "ExApXQ5sv86U",
        "outputId": "14072253-c7ce-416a-8ef9-9b241c0f99f3"
      },
      "source": [
        "#programiz\n",
        "\n",
        "def bucketSort(array):\n",
        "  bucket = []\n",
        "\n",
        "  #create empty buckets\n",
        "  for i in range(len(array)):\n",
        "    bucket.append([])\n",
        "\n",
        "  #insert elements into their respective buckets\n",
        "  for j in array:\n",
        "    index_b = int(10 * j)\n",
        "    bucket[index_b].append(j)\n",
        "  #sort the elements of each bucket\n",
        "  for i in range(len(array)):\n",
        "    bucket[i] = sorted(bucket[i])\n",
        "\n",
        "  #get the sorted elements\n",
        "  k = 0\n",
        "  for i in range(len(array)):\n",
        "    for j in range(len(bucket[i])):\n",
        "      array[k] = bucket[i][j]\n",
        "      k += 1\n",
        "  return array\n",
        "\n",
        "array = [.42, .32, .33, .52, .37, .47, .51]\n",
        "print(\"Sorted Array in descending order is\")\n",
        "print(bucketSort(array))"
      ],
      "execution_count": 4,
      "outputs": [
        {
          "output_type": "stream",
          "name": "stdout",
          "text": [
            "Sorted Array in descending order is\n",
            "[0.32, 0.33, 0.37, 0.42, 0.47, 0.51, 0.52]\n"
          ]
        }
      ]
    },
    {
      "cell_type": "markdown",
      "metadata": {
        "id": "gHdqx2sMyiOf"
      },
      "source": [
        "**3**"
      ]
    },
    {
      "cell_type": "code",
      "metadata": {
        "colab": {
          "base_uri": "https://localhost:8080/"
        },
        "id": "wy0Lj22Lw55-",
        "outputId": "9cf4f25d-602c-403f-cb57-1ace73d05124"
      },
      "source": [
        "def bucket_sort(lst):\n",
        "  # Find maximum value in the list and use length of the list to determine the sze\n",
        "  max_value = max(lst)\n",
        "  size = max_value/len(lst)\n",
        "\n",
        "  #create empty buckets\n",
        "  bucket_list = []\n",
        "  for x in range(len(lst)):\n",
        "    bucket_list.append([])\n",
        "\n",
        "  # put list elements into different buckets based on the size\n",
        "  for i in range(len(lst)):\n",
        "    j = int(lst[i]/ size)\n",
        "    if j != len(lst):\n",
        "      bucket_list[j].append(lst[i])\n",
        "    else:\n",
        "      bucket_list[len(lst) - 1].append(lst[i])\n",
        "  \n",
        "  #sort elements within the bucket using insertion sort\n",
        "  for z in range(len(lst)):\n",
        "    insertionSort(bucket_list[z])\n",
        "\n",
        "  #concatenate buckets with sorted elements into a single list\n",
        "  final_output = []\n",
        "  for x in range(len(lst)):\n",
        "    final_output = final_output + bucket_list[x]\n",
        "  return final_output\n",
        "\n",
        "def insertionSort(bucket):\n",
        "  for i in range(1, len(bucket)):\n",
        "    var = bucket[i]\n",
        "    j = i - 1\n",
        "    while (j >= 0 and var < bucket[j]):\n",
        "      bucket[j + 1] = bucket[j]\n",
        "      j = j - 1\n",
        "    bucket[j + 1] = var\n",
        "\n",
        "\n",
        "lst = [1.20, 0.22, 0.43, 0.36,0.39,0.27]\n",
        "print('ORIGINAL LIST:')\n",
        "print(lst)\n",
        "sorted_list = bucket_sort(lst)\n",
        "print('SORTED LIST:')\n",
        "print(sorted_list)"
      ],
      "execution_count": 5,
      "outputs": [
        {
          "output_type": "stream",
          "name": "stdout",
          "text": [
            "ORIGINAL LIST:\n",
            "[1.2, 0.22, 0.43, 0.36, 0.39, 0.27]\n",
            "SORTED LIST:\n",
            "[0.22, 0.27, 0.36, 0.39, 0.43, 1.2]\n"
          ]
        }
      ]
    },
    {
      "cell_type": "markdown",
      "metadata": {
        "id": "238XT3UV3lD2"
      },
      "source": [
        "**4**"
      ]
    },
    {
      "cell_type": "code",
      "metadata": {
        "colab": {
          "base_uri": "https://localhost:8080/"
        },
        "id": "shXbu7RK2vuf",
        "outputId": "b9e34462-45a7-42a7-df3e-52323c0d10a0"
      },
      "source": [
        "import random\n",
        " \n",
        "def bucketSort(array):\n",
        "    largest = max(array)\n",
        "    length = len(array)\n",
        "    size = largest/length\n",
        " \n",
        "    # Create Buckets\n",
        "    buckets = [[] for i in range(length)]\n",
        " \n",
        "    # Bucket Sorting   \n",
        "    for i in range(length):\n",
        "        index = int(array[i]/size)\n",
        "        if index != length:\n",
        "            buckets[index].append(array[i])\n",
        "        else:\n",
        "            buckets[length - 1].append(array[i])\n",
        " \n",
        "    # Sorting Individual Buckets  \n",
        "    for i in range(len(array)):\n",
        "        buckets[i] = sorted(buckets[i])\n",
        " \n",
        " \n",
        "    # Flattening the Array\n",
        "    result = []\n",
        "    for i in range(length):\n",
        "        result = result + buckets[i]\n",
        "             \n",
        "    return result\n",
        "arr = [5, 4, 2, 7, 8, 55, 2, 1, 4, 5, 1, 2]\n",
        "output = bucketSort(arr)\n",
        "print(output)\n",
        "\n",
        "#https://coderslegacy.com/python/bucket-sort-algorithm/"
      ],
      "execution_count": 7,
      "outputs": [
        {
          "output_type": "stream",
          "name": "stdout",
          "text": [
            "[1, 1, 2, 2, 2, 4, 4, 5, 5, 7, 8, 55]\n"
          ]
        }
      ]
    }
  ]
}
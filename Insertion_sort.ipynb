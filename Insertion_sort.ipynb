{
  "nbformat": 4,
  "nbformat_minor": 0,
  "metadata": {
    "colab": {
      "name": "Insertion sort.ipynb",
      "provenance": [],
      "authorship_tag": "ABX9TyNg/Bul9cdk2IVznEuNJbr1",
      "include_colab_link": true
    },
    "kernelspec": {
      "name": "python3",
      "display_name": "Python 3"
    },
    "language_info": {
      "name": "python"
    }
  },
  "cells": [
    {
      "cell_type": "markdown",
      "metadata": {
        "id": "view-in-github",
        "colab_type": "text"
      },
      "source": [
        "<a href=\"https://colab.research.google.com/github/saima8/DS-and-Algo/blob/main/Insertion_sort.ipynb\" target=\"_parent\"><img src=\"https://colab.research.google.com/assets/colab-badge.svg\" alt=\"Open In Colab\"/></a>"
      ]
    },
    {
      "cell_type": "code",
      "metadata": {
        "id": "PNSAdkdD1wna"
      },
      "source": [
        "def insertionsort(array):\n",
        "  for i in range(1, len(array)):\n",
        "    j = i\n",
        "    while j > 0 and array[j] < array[j - 1]:\n",
        "      swap(j, j - 1, array)\n",
        "      j -= 1\n",
        "\n",
        "  return array\n",
        "\n",
        "def swap(i, j, array):\n",
        "  array[i], array[j] = array[j], array[i]"
      ],
      "execution_count": 5,
      "outputs": []
    },
    {
      "cell_type": "code",
      "metadata": {
        "colab": {
          "base_uri": "https://localhost:8080/"
        },
        "id": "-P_x5xty2gFJ",
        "outputId": "c8b73926-78e3-4fb8-e3e1-69259bc95b83"
      },
      "source": [
        "insertionsort([8, 5, 2, 9, 5, 6, 3])\n"
      ],
      "execution_count": 6,
      "outputs": [
        {
          "output_type": "execute_result",
          "data": {
            "text/plain": [
              "[2, 3, 5, 5, 6, 8, 9]"
            ]
          },
          "metadata": {},
          "execution_count": 6
        }
      ]
    },
    {
      "cell_type": "markdown",
      "metadata": {
        "id": "byKffGlC2xn5"
      },
      "source": [
        "**Best** : O(n) time | O(1) space\n",
        "\n",
        "**Avg**: O(n^2) time | O(1) space\n",
        "\n",
        "**worst**: O(n^2) time | O(1) space"
      ]
    }
  ]
}
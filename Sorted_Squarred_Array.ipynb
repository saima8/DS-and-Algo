{
  "nbformat": 4,
  "nbformat_minor": 0,
  "metadata": {
    "colab": {
      "name": "Sorted Squarred Array.ipynb",
      "provenance": [],
      "authorship_tag": "ABX9TyN45V3xab28nmemjA4ACTZz",
      "include_colab_link": true
    },
    "kernelspec": {
      "name": "python3",
      "display_name": "Python 3"
    },
    "language_info": {
      "name": "python"
    }
  },
  "cells": [
    {
      "cell_type": "markdown",
      "metadata": {
        "id": "view-in-github",
        "colab_type": "text"
      },
      "source": [
        "<a href=\"https://colab.research.google.com/github/saima8/DS-and-Algo/blob/main/Sorted_Squarred_Array.ipynb\" target=\"_parent\"><img src=\"https://colab.research.google.com/assets/colab-badge.svg\" alt=\"Open In Colab\"/></a>"
      ]
    },
    {
      "cell_type": "markdown",
      "metadata": {
        "id": "vBezDVzbiQCq"
      },
      "source": [
        "\n",
        "## My solution"
      ]
    },
    {
      "cell_type": "code",
      "metadata": {
        "colab": {
          "base_uri": "https://localhost:8080/"
        },
        "id": "LWpzuuscgX6i",
        "outputId": "03c51b91-2a45-4261-ecfe-3e05b8b9ad78"
      },
      "source": [
        "def s(array):\n",
        "  new = []\n",
        "  for i in array:\n",
        "    new.append(i ** 2)\n",
        "    \n",
        "  new.sort()\n",
        "  return new\n",
        "s([1,2,3,4,5,6])"
      ],
      "execution_count": null,
      "outputs": [
        {
          "output_type": "execute_result",
          "data": {
            "text/plain": [
              "[1, 4, 9, 16, 25, 36]"
            ]
          },
          "metadata": {},
          "execution_count": 8
        }
      ]
    },
    {
      "cell_type": "markdown",
      "metadata": {
        "id": "TsI8ozw0iZKb"
      },
      "source": [
        "## Solution 1"
      ]
    },
    {
      "cell_type": "code",
      "metadata": {
        "id": "KeZHgz5uicaT",
        "colab": {
          "base_uri": "https://localhost:8080/"
        },
        "outputId": "132381ef-5a05-481f-9b2c-6fa500ce681f"
      },
      "source": [
        "def sortedSquaredArray(array):\n",
        "    # Write your code here.\n",
        "    sortedSquares = [0 for _ in array]\n",
        "\t\n",
        "    for idx in range (len(array)):\n",
        "      value = array[idx]\n",
        "      sortedSquares[idx] = value * value\n",
        "\t\t\n",
        "    sortedSquares.sort()\n",
        "    return sortedSquares\n",
        "\n",
        "sortedSquaredArray([1,2,3,4,5,6]) "
      ],
      "execution_count": 6,
      "outputs": [
        {
          "output_type": "execute_result",
          "data": {
            "text/plain": [
              "[1, 4, 9, 16, 25, 36]"
            ]
          },
          "metadata": {},
          "execution_count": 6
        }
      ]
    },
    {
      "cell_type": "markdown",
      "metadata": {
        "id": "Pi9pF8EfidAR"
      },
      "source": [
        "Time Complexity: **O(nlog(n))**\n",
        "\n",
        "Space Complexity: **O(n)**"
      ]
    },
    {
      "cell_type": "markdown",
      "metadata": {
        "id": "QcHv8uloijZe"
      },
      "source": [
        "# Solution 2"
      ]
    },
    {
      "cell_type": "code",
      "metadata": {
        "id": "i8VgCdDJihlI",
        "colab": {
          "base_uri": "https://localhost:8080/"
        },
        "outputId": "ec8becaa-3a40-459c-be2a-64497604eb1a"
      },
      "source": [
        "def sortedSquaredArray(array):\n",
        "    # Write your code here.\n",
        "    sortedSquares = [0 for _ in array]\n",
        "    left = 0\n",
        "    right = len(array) - 1\n",
        "    \n",
        "    for idx in reversed(range(len(array))):\n",
        "      leftValue = array[left]\n",
        "      rightValue = array[right]\n",
        "\t\t\n",
        "      if abs(leftValue) > abs(rightValue):\n",
        "        sortedSquares[idx] = leftValue * leftValue\n",
        "        left += 1\n",
        "      else:\n",
        "        sortedSquares[idx] = rightValue * rightValue\n",
        "        right -= 1\n",
        "    return sortedSquares\n",
        "\n",
        "sortedSquaredArray([1,2,3,4,5,6]) "
      ],
      "execution_count": 11,
      "outputs": [
        {
          "output_type": "execute_result",
          "data": {
            "text/plain": [
              "[1, 4, 9, 16, 25, 36]"
            ]
          },
          "metadata": {},
          "execution_count": 11
        }
      ]
    },
    {
      "cell_type": "markdown",
      "metadata": {
        "id": "VfnFEyeSioAb"
      },
      "source": [
        "Time Complexity: **O(n)**\n",
        "\n",
        "Space Complexity: O(n)"
      ]
    }
  ]
}
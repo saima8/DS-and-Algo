{
  "nbformat": 4,
  "nbformat_minor": 0,
  "metadata": {
    "colab": {
      "name": "Sorted Squarred Array.ipynb",
      "provenance": [],
      "authorship_tag": "ABX9TyOc42p+Ogg5Pw1U3YPdBN19",
      "include_colab_link": true
    },
    "kernelspec": {
      "name": "python3",
      "display_name": "Python 3"
    },
    "language_info": {
      "name": "python"
    }
  },
  "cells": [
    {
      "cell_type": "markdown",
      "metadata": {
        "id": "view-in-github",
        "colab_type": "text"
      },
      "source": [
        "<a href=\"https://colab.research.google.com/github/saima8/DS-and-Algo/blob/main/Sorted_Squarred_Array.ipynb\" target=\"_parent\"><img src=\"https://colab.research.google.com/assets/colab-badge.svg\" alt=\"Open In Colab\"/></a>"
      ]
    },
    {
      "cell_type": "markdown",
      "metadata": {
        "id": "vBezDVzbiQCq"
      },
      "source": [
        "\n",
        "## My solution"
      ]
    },
    {
      "cell_type": "code",
      "metadata": {
        "colab": {
          "base_uri": "https://localhost:8080/"
        },
        "id": "LWpzuuscgX6i",
        "outputId": "03c51b91-2a45-4261-ecfe-3e05b8b9ad78"
      },
      "source": [
        "def s(array):\n",
        "  new = []\n",
        "  for i in array:\n",
        "    new.append(i ** 2)\n",
        "    \n",
        "  new.sort()\n",
        "  return new\n",
        "s([1,2,3,4,5,6])"
      ],
      "execution_count": null,
      "outputs": [
        {
          "output_type": "execute_result",
          "data": {
            "text/plain": [
              "[1, 4, 9, 16, 25, 36]"
            ]
          },
          "metadata": {},
          "execution_count": 8
        }
      ]
    },
    {
      "cell_type": "markdown",
      "metadata": {
        "id": "TsI8ozw0iZKb"
      },
      "source": [
        "## Solution 1"
      ]
    },
    {
      "cell_type": "code",
      "metadata": {
        "id": "KeZHgz5uicaT"
      },
      "source": [
        ""
      ],
      "execution_count": null,
      "outputs": []
    },
    {
      "cell_type": "markdown",
      "metadata": {
        "id": "Pi9pF8EfidAR"
      },
      "source": [
        "Time Complexity: \n",
        "\n",
        "Space Complexity:"
      ]
    },
    {
      "cell_type": "markdown",
      "metadata": {
        "id": "QcHv8uloijZe"
      },
      "source": [
        "# Solution 2"
      ]
    },
    {
      "cell_type": "code",
      "metadata": {
        "id": "i8VgCdDJihlI"
      },
      "source": [
        ""
      ],
      "execution_count": null,
      "outputs": []
    },
    {
      "cell_type": "markdown",
      "metadata": {
        "id": "VfnFEyeSioAb"
      },
      "source": [
        "Time Complexity: \n",
        "\n",
        "Space Complexity:"
      ]
    }
  ]
}
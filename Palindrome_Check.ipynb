{
  "nbformat": 4,
  "nbformat_minor": 0,
  "metadata": {
    "colab": {
      "name": "Palindrome Check.ipynb",
      "provenance": [],
      "authorship_tag": "ABX9TyP022O/7JNuvoLeTcSqihXS",
      "include_colab_link": true
    },
    "kernelspec": {
      "name": "python3",
      "display_name": "Python 3"
    },
    "language_info": {
      "name": "python"
    }
  },
  "cells": [
    {
      "cell_type": "markdown",
      "metadata": {
        "id": "view-in-github",
        "colab_type": "text"
      },
      "source": [
        "<a href=\"https://colab.research.google.com/github/saima8/DS-and-Algo/blob/main/Palindrome_Check.ipynb\" target=\"_parent\"><img src=\"https://colab.research.google.com/assets/colab-badge.svg\" alt=\"Open In Colab\"/></a>"
      ]
    },
    {
      "cell_type": "markdown",
      "metadata": {
        "id": "48a1cq0f7MpV"
      },
      "source": [
        "## My Solution"
      ]
    },
    {
      "cell_type": "code",
      "metadata": {
        "colab": {
          "base_uri": "https://localhost:8080/"
        },
        "id": "0XPrEkxR67aS",
        "outputId": "4bd49b11-4f7d-464a-dabb-ccb6ed55c6e0"
      },
      "source": [
        "def isPalindrome(s):\n",
        "    if s == s[::-1]:\n",
        "        return True\n",
        "    return False\n",
        " \n",
        "isPalindrome(\"abcdcba\")"
      ],
      "execution_count": 12,
      "outputs": [
        {
          "output_type": "execute_result",
          "data": {
            "text/plain": [
              "True"
            ]
          },
          "metadata": {},
          "execution_count": 12
        }
      ]
    },
    {
      "cell_type": "markdown",
      "metadata": {
        "id": "y5qQXaeyB-HD"
      },
      "source": [
        "## Solution 1"
      ]
    },
    {
      "cell_type": "code",
      "metadata": {
        "id": "Jxqylb-uB_ho"
      },
      "source": [
        "def isPalindrome(string):\n",
        "  reversedString = \"\"\n",
        "  for i in reversed(range(len(string))):\n",
        "    reversedString += string[i]\n",
        "  return string == reversedString"
      ],
      "execution_count": 13,
      "outputs": []
    },
    {
      "cell_type": "markdown",
      "metadata": {
        "id": "VXKLaqtWCASe"
      },
      "source": [
        "## Solution 2"
      ]
    },
    {
      "cell_type": "code",
      "metadata": {
        "id": "JNoLEqAmCB7O"
      },
      "source": [
        "def isPalindrome(string):\n",
        "  reversedString = []\n",
        "  for i in reversed(range(len(string))):\n",
        "    reversedString.append(string[i])\n",
        "  return string == \"\".join(reversedString)"
      ],
      "execution_count": 14,
      "outputs": []
    },
    {
      "cell_type": "markdown",
      "metadata": {
        "id": "NEAHOUzoCCaT"
      },
      "source": [
        "## Solution 3"
      ]
    },
    {
      "cell_type": "code",
      "metadata": {
        "id": "ADIeMpmPCEAz"
      },
      "source": [
        "def isPalindrome(string, i=0):\n",
        "  j = len(string) - 1 - i\n",
        "  return True if i >= j else string[i] and isPalindrome(string, i+1)\n",
        "  "
      ],
      "execution_count": 15,
      "outputs": []
    },
    {
      "cell_type": "markdown",
      "metadata": {
        "id": "5tWQBcKbCEmd"
      },
      "source": [
        "## Solution 4"
      ]
    },
    {
      "cell_type": "code",
      "metadata": {
        "id": "g8DJjITmCG0c"
      },
      "source": [
        "def isPalindrome(string, i=0):\n",
        "  leftIdx = 0\n",
        "  rightIdx = len(string) - 1\n",
        "  while leftIdx < rightIdx:\n",
        "    if string[leftIdx] != string[rightIdx]:\n",
        "      return False\n",
        "    leftIdx += 1\n",
        "    rightIdx -= 1\n",
        "  return True"
      ],
      "execution_count": 16,
      "outputs": []
    }
  ]
}
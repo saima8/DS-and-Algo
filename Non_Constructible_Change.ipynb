{
  "nbformat": 4,
  "nbformat_minor": 0,
  "metadata": {
    "colab": {
      "name": "Non Constructible Change.ipynb",
      "provenance": [],
      "authorship_tag": "ABX9TyNQ4zpDBk3Sm9tdtzzCi0jt",
      "include_colab_link": true
    },
    "kernelspec": {
      "name": "python3",
      "display_name": "Python 3"
    },
    "language_info": {
      "name": "python"
    }
  },
  "cells": [
    {
      "cell_type": "markdown",
      "metadata": {
        "id": "view-in-github",
        "colab_type": "text"
      },
      "source": [
        "<a href=\"https://colab.research.google.com/github/saima8/DS-and-Algo/blob/main/Non_Constructible_Change.ipynb\" target=\"_parent\"><img src=\"https://colab.research.google.com/assets/colab-badge.svg\" alt=\"Open In Colab\"/></a>"
      ]
    },
    {
      "cell_type": "code",
      "metadata": {
        "colab": {
          "base_uri": "https://localhost:8080/"
        },
        "id": "MAvIa40JPnxR",
        "outputId": "375d8fe0-12db-4ec1-fbed-b59928a84648"
      },
      "source": [
        "def nonConstructibleChange(coins):\n",
        "    # Write your code here.\n",
        "    change = 0\n",
        "    coins.sort()\n",
        "    for i in coins:\n",
        "      if i > change + 1:\n",
        "        return change + 1\n",
        "\n",
        "      change += i\n",
        "\n",
        "    return change + 1\n",
        "\n",
        "nonConstructibleChange ([1, 2, 4])"
      ],
      "execution_count": 3,
      "outputs": [
        {
          "output_type": "execute_result",
          "data": {
            "text/plain": [
              "8"
            ]
          },
          "metadata": {},
          "execution_count": 3
        }
      ]
    },
    {
      "cell_type": "markdown",
      "metadata": {
        "id": "KLC3dfVRUGM6"
      },
      "source": [
        "Time Complexity: **O(nlog(n))**\n",
        "\n",
        "Space Complexity: **O(1)** "
      ]
    }
  ]
}
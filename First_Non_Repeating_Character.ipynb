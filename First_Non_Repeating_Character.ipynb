{
  "nbformat": 4,
  "nbformat_minor": 0,
  "metadata": {
    "colab": {
      "name": "First Non-Repeating Character.ipynb",
      "provenance": [],
      "authorship_tag": "ABX9TyM45R7gRRp88jqCgVGYIfpU",
      "include_colab_link": true
    },
    "kernelspec": {
      "name": "python3",
      "display_name": "Python 3"
    },
    "language_info": {
      "name": "python"
    }
  },
  "cells": [
    {
      "cell_type": "markdown",
      "metadata": {
        "id": "view-in-github",
        "colab_type": "text"
      },
      "source": [
        "<a href=\"https://colab.research.google.com/github/saima8/DS-and-Algo/blob/main/First_Non_Repeating_Character.ipynb\" target=\"_parent\"><img src=\"https://colab.research.google.com/assets/colab-badge.svg\" alt=\"Open In Colab\"/></a>"
      ]
    },
    {
      "cell_type": "code",
      "metadata": {
        "colab": {
          "base_uri": "https://localhost:8080/"
        },
        "id": "IsqzwRn0dPjI",
        "outputId": "69138ac2-ad32-4b64-ba05-de6f05907b6f"
      },
      "source": [
        "def firstNonRepeatingCharacter(string):\n",
        "    # Write your code here.\n",
        "    new = list(string)\n",
        "    print(new)\n",
        "    for idx, ch in enumerate (new):\n",
        "      if new[idx] not in range (idx + 1, len(new)):\n",
        "        return idx\n",
        "    return -1\n",
        "\n",
        "firstNonRepeatingCharacter('bcdcaf')"
      ],
      "execution_count": null,
      "outputs": [
        {
          "output_type": "stream",
          "name": "stdout",
          "text": [
            "['b', 'c', 'd', 'c', 'a', 'f']\n"
          ]
        },
        {
          "output_type": "execute_result",
          "data": {
            "text/plain": [
              "0"
            ]
          },
          "metadata": {},
          "execution_count": 7
        }
      ]
    },
    {
      "cell_type": "markdown",
      "metadata": {
        "id": "DovrLVfvle7S"
      },
      "source": [
        "### Error!!!"
      ]
    },
    {
      "cell_type": "markdown",
      "metadata": {
        "id": "q3bWk77RFL8B"
      },
      "source": [
        "# Solution 1"
      ]
    },
    {
      "cell_type": "code",
      "metadata": {
        "colab": {
          "base_uri": "https://localhost:8080/"
        },
        "id": "a4TOyJzKliR2",
        "outputId": "719ad2da-01d1-48d7-db66-f43461fd3b8d"
      },
      "source": [
        "def firstNonRepeatingCharacter(string):\n",
        "\tfor idx in range(len(string)):\n",
        "\t\tfoundDuplicate = False\n",
        "\t\tfor idx2 in range(len(string)):\n",
        "\t\t\tif string[idx] == string[idx2] and idx != idx2:\n",
        "\t\t\t\tfoundDuplicate = True\n",
        "\t\t\t\t\n",
        "\t\tif not foundDuplicate:\n",
        "\t\t\treturn idx\n",
        "\t\t\n",
        "\treturn -1\n",
        "\n",
        "firstNonRepeatingCharacter('abcdcaf')"
      ],
      "execution_count": null,
      "outputs": [
        {
          "output_type": "execute_result",
          "data": {
            "text/plain": [
              "1"
            ]
          },
          "metadata": {},
          "execution_count": 12
        }
      ]
    },
    {
      "cell_type": "markdown",
      "metadata": {
        "id": "MyJNEg-lFO09"
      },
      "source": [
        "Time Complexity: **O(n^2)**\n",
        "\n",
        "Space Complexity: **O(1)**"
      ]
    },
    {
      "cell_type": "markdown",
      "metadata": {
        "id": "GtDyYSgVFaP_"
      },
      "source": [
        "# Solution 2"
      ]
    },
    {
      "cell_type": "code",
      "metadata": {
        "colab": {
          "base_uri": "https://localhost:8080/"
        },
        "id": "DGIJ6Fc8vgAe",
        "outputId": "205e09aa-97d2-46c1-cea2-b84091e1cdca"
      },
      "source": [
        "def firstNonRepeatingCharacter(string):\n",
        "  charFreq = {}\n",
        "  for char in string:\n",
        "    charFreq[char] = charFreq.get(char, 0) + 1\n",
        "\n",
        "  for idx in range(len(string)):\n",
        "    char = string[idx]\n",
        "    if charFreq[char] == 1:\n",
        "      return idx\n",
        "  return -1\n",
        "\n",
        "firstNonRepeatingCharacter('abcdcaf')"
      ],
      "execution_count": 1,
      "outputs": [
        {
          "output_type": "execute_result",
          "data": {
            "text/plain": [
              "1"
            ]
          },
          "metadata": {},
          "execution_count": 1
        }
      ]
    },
    {
      "cell_type": "markdown",
      "metadata": {
        "id": "BOawl_DUwh-W"
      },
      "source": [
        "Time Complexity: **O(n)**\n",
        "\n",
        "Space Complexity: **O(1)**"
      ]
    },
    {
      "cell_type": "markdown",
      "metadata": {
        "id": "a82YZDTUwxOG"
      },
      "source": [
        "**Notes**\n",
        " In the optimal solution, we store the input string's character frequencies in a hash table. Why is this solution's space complexity O(1) as opposed to O(n)?\n",
        "\n",
        "The problem's prompt specifies that the input string only contains lowercase English-alphabet letters. Since there are only 26 lowercase English-alphabet letters, our hash table will never store more than 26 character frequencies; thus, the optimal solution's space complexity is O(1). If the input string could contain any character, then the space complexity would be O(n).\n",
        "\n",
        "This type of detail should always be confirmed with your interviewer in a real coding interview."
      ]
    }
  ]
}
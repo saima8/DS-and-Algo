{
  "nbformat": 4,
  "nbformat_minor": 0,
  "metadata": {
    "colab": {
      "name": "Find Closest Value In BST.ipynb",
      "provenance": [],
      "authorship_tag": "ABX9TyM5Rpd7JX8wdEs3P0t2GQSk",
      "include_colab_link": true
    },
    "kernelspec": {
      "name": "python3",
      "display_name": "Python 3"
    },
    "language_info": {
      "name": "python"
    }
  },
  "cells": [
    {
      "cell_type": "markdown",
      "metadata": {
        "id": "view-in-github",
        "colab_type": "text"
      },
      "source": [
        "<a href=\"https://colab.research.google.com/github/saima8/DS-and-Algo/blob/main/Find_Closest_Value_In_BST.ipynb\" target=\"_parent\"><img src=\"https://colab.research.google.com/assets/colab-badge.svg\" alt=\"Open In Colab\"/></a>"
      ]
    },
    {
      "cell_type": "markdown",
      "metadata": {
        "id": "JBJ5vKR2R8Ju"
      },
      "source": [
        "## Solution 1 (Recursively)"
      ]
    },
    {
      "cell_type": "code",
      "metadata": {
        "id": "E6-zCUcAR7tB"
      },
      "source": [
        "def findClosestValueInBst(tree, target):\n",
        "    # Write your code here.\n",
        "    return findClosestValueInBstHelper(tree, target, tree.value)\n",
        "\n",
        "def findClosestValueInBstHelper(tree, target, closest):\n",
        "\tif tree is None:\n",
        "\t\treturn closest\n",
        "\tif abs(target - closest) > abs(target - tree.value):\n",
        "\t\tclosest = tree.value\n",
        "\tif target > tree.value:\n",
        "\t\treturn findClosestValueInBstHelper(tree.right, target, closest)\n",
        "\telif target < tree.value:\n",
        "\t\treturn findClosestValueInBstHelper(tree.left, target, closest)\n",
        "\telse:\n",
        "\t\treturn closest\n",
        "\n",
        "# This is the class of the input tree. Do not edit.\n",
        "class BST:\n",
        "    def __init__(self, value):\n",
        "        self.value = value\n",
        "        self.left = None\n",
        "        self.right = None\n"
      ],
      "execution_count": null,
      "outputs": []
    },
    {
      "cell_type": "markdown",
      "metadata": {
        "id": "NL6J089fSrWt"
      },
      "source": [
        "Avg -Time Complexity : **O(nlog(n))** || Space Complexity : **O(nlog(n))** \n",
        "\n",
        "(Because of using frames in Call stack)\n",
        "\n",
        "Worst - Time Complexity : **O(n)** || Space Complexity : **O(n)**\n",
        "\n",
        "(If unfortunately we have 1 node in the tree)"
      ]
    },
    {
      "cell_type": "markdown",
      "metadata": {
        "id": "P0qrvIqqSjz7"
      },
      "source": [
        "## Solution 2 (Iteratively)"
      ]
    },
    {
      "cell_type": "code",
      "metadata": {
        "id": "jT-kbkVHSfJP"
      },
      "source": [
        "def findClosestValueInBst(tree, target):\n",
        "    # Write your code here.\n",
        "    return findClosestValueInBstHelper(tree, target, tree.value)\n",
        "\n",
        "def findClosestValueInBstHelper(tree, target, closest):\n",
        "\tcurrentNode = tree\n",
        "\twhile currentNode is not None:\n",
        "\t\tif abs(target - closest) > abs(target - currentNode.value):\n",
        "\t\t\tclosest = currentNode.value\n",
        "\t\tif target > currentNode.value:\n",
        "\t\t\tcurrentNode = currentNode.right\n",
        "\t\telif target < currentNode.value:\n",
        "\t\t\tcurrentNode = currentNode.left\n",
        "\t\telse:\n",
        "\t\t\tbreak\n",
        "\treturn closest\n",
        "\t\t\n",
        "\n",
        "# This is the class of the input tree. Do not edit.\n",
        "class BST:\n",
        "    def __init__(self, value):\n",
        "        self.value = value\n",
        "        self.left = None\n",
        "        self.right = None\n"
      ],
      "execution_count": null,
      "outputs": []
    },
    {
      "cell_type": "markdown",
      "metadata": {
        "id": "_A1ibznaTzz6"
      },
      "source": [
        "Avg -Time Complexity : **O(nlog(n))** || Space Complexity : **O(1)** \n",
        "\n",
        "\n",
        "Worst - Time Complexity : **O(n)** || Space Complexity : **O(1)**\n",
        "\n",
        "***Because we didn't need to use additional memory***"
      ]
    }
  ]
}
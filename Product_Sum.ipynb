{
  "nbformat": 4,
  "nbformat_minor": 0,
  "metadata": {
    "colab": {
      "name": "Product Sum.ipynb",
      "provenance": [],
      "authorship_tag": "ABX9TyO4ZU/qL7kC/7VF9WxHehq0",
      "include_colab_link": true
    },
    "kernelspec": {
      "name": "python3",
      "display_name": "Python 3"
    },
    "language_info": {
      "name": "python"
    }
  },
  "cells": [
    {
      "cell_type": "markdown",
      "metadata": {
        "id": "view-in-github",
        "colab_type": "text"
      },
      "source": [
        "<a href=\"https://colab.research.google.com/github/saima8/DS-and-Algo/blob/main/Product_Sum.ipynb\" target=\"_parent\"><img src=\"https://colab.research.google.com/assets/colab-badge.svg\" alt=\"Open In Colab\"/></a>"
      ]
    },
    {
      "cell_type": "code",
      "metadata": {
        "id": "9Iqs9bjQu2jT"
      },
      "source": [
        "def proSum(array, multiplier=1):\n",
        "  sum = 0\n",
        "  for element in array:\n",
        "    if type(element) is list:\n",
        "      sum += proSum(element, multiplier + 1)\n",
        "    else:\n",
        "      sum += element\n",
        "  return sum * multiplier"
      ],
      "execution_count": 5,
      "outputs": []
    },
    {
      "cell_type": "code",
      "metadata": {
        "colab": {
          "base_uri": "https://localhost:8080/"
        },
        "id": "Z97VnkchvWgQ",
        "outputId": "c41488db-04ba-44ef-bba6-e7ba61de6630"
      },
      "source": [
        "input = [5, 2, [7, -1], 3, [6, [-13, 8], 4]]\n",
        "proSum(input)"
      ],
      "execution_count": 6,
      "outputs": [
        {
          "output_type": "execute_result",
          "data": {
            "text/plain": [
              "12"
            ]
          },
          "metadata": {},
          "execution_count": 6
        }
      ]
    },
    {
      "cell_type": "markdown",
      "metadata": {
        "id": "7kkpUWAiw2ly"
      },
      "source": [
        "Time : **O(n)**\n",
        "\n",
        "Space : **O(d)**\n",
        "\n",
        "where n is the total number of elements in the arrays, including sub-elements, and d is the greatest depth of \"special\" arrays in the array"
      ]
    }
  ]
}
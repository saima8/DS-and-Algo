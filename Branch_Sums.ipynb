{
  "nbformat": 4,
  "nbformat_minor": 0,
  "metadata": {
    "colab": {
      "name": "Branch Sums.ipynb",
      "provenance": [],
      "authorship_tag": "ABX9TyPdQCpFRyf7DIIwZ3hx4TSS",
      "include_colab_link": true
    },
    "kernelspec": {
      "name": "python3",
      "display_name": "Python 3"
    },
    "language_info": {
      "name": "python"
    }
  },
  "cells": [
    {
      "cell_type": "markdown",
      "metadata": {
        "id": "view-in-github",
        "colab_type": "text"
      },
      "source": [
        "<a href=\"https://colab.research.google.com/github/saima8/DS-and-Algo/blob/main/Branch_Sums.ipynb\" target=\"_parent\"><img src=\"https://colab.research.google.com/assets/colab-badge.svg\" alt=\"Open In Colab\"/></a>"
      ]
    },
    {
      "cell_type": "markdown",
      "metadata": {
        "id": "YwDLY3bn5GFe"
      },
      "source": [
        "## Solution (Recursively)"
      ]
    },
    {
      "cell_type": "code",
      "metadata": {
        "id": "eZd-fVgHrj2D"
      },
      "source": [
        "# This is the class of the input root. Do not edit it.\n",
        "class BinaryTree:\n",
        "    def __init__(self, value):\n",
        "        self.value = value\n",
        "        self.left = None\n",
        "        self.right = None\n",
        "\n",
        "\n",
        "def branchSums(root):\n",
        "    # Write your code here.\n",
        "    sums = []\n",
        "    calculateBranchSums (root, 0, sums)\n",
        "    return sums\n",
        "\n",
        "def calculateBranchSums(node, runningSum, sums):\n",
        "\tif node is None:\n",
        "\t\treturn\n",
        "\tnewRunningSum = runningSum + node.value\n",
        "\tif node.left is None and node.right is None:\n",
        "\t\tsums.append(newRunningSum)\n",
        "\t\treturn\n",
        "\tcalculateBranchSums(node.left, newRunningSum, sums)\n",
        "\tcalculateBranchSums(node.right, newRunningSum, sums)\n"
      ],
      "execution_count": 2,
      "outputs": []
    },
    {
      "cell_type": "markdown",
      "metadata": {
        "id": "7iMgJuuK5KcI"
      },
      "source": [
        "Time Complexity : **O(n)**\n",
        "\n",
        "Space Complexity : **O(n)**"
      ]
    }
  ]
}
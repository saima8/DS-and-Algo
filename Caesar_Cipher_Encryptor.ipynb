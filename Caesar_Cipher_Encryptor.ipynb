{
  "nbformat": 4,
  "nbformat_minor": 0,
  "metadata": {
    "colab": {
      "name": "Caesar Cipher Encryptor.ipynb",
      "provenance": [],
      "authorship_tag": "ABX9TyNWKfMIo6tiIk2smMwjlE5i",
      "include_colab_link": true
    },
    "kernelspec": {
      "name": "python3",
      "display_name": "Python 3"
    },
    "language_info": {
      "name": "python"
    }
  },
  "cells": [
    {
      "cell_type": "markdown",
      "metadata": {
        "id": "view-in-github",
        "colab_type": "text"
      },
      "source": [
        "<a href=\"https://colab.research.google.com/github/saima8/DS-and-Algo/blob/main/Caesar_Cipher_Encryptor.ipynb\" target=\"_parent\"><img src=\"https://colab.research.google.com/assets/colab-badge.svg\" alt=\"Open In Colab\"/></a>"
      ]
    },
    {
      "cell_type": "markdown",
      "metadata": {
        "id": "YH9ACDqzyaSj"
      },
      "source": [
        "## Solution 1"
      ]
    },
    {
      "cell_type": "code",
      "metadata": {
        "colab": {
          "base_uri": "https://localhost:8080/",
          "height": 35
        },
        "id": "IWwD0xipyRZn",
        "outputId": "e9fdfee1-3d70-4c7d-d556-95aa60514183"
      },
      "source": [
        "def caesarCipherEncryptor(string, key):\n",
        "    # Write your code here.\n",
        "    newLetters = []\n",
        "    newKey = key % 26\n",
        "\n",
        "    for letter in string:\n",
        "      newLetters.append(getNewLetter(letter, key))\n",
        "    return \"\".join(newLetters)\n",
        "\n",
        "def getNewLetter(letter, key):\n",
        "  newLetterCode = ord(letter) + key\n",
        "  return chr(newLetterCode) if newLetterCode <= 122 else chr(96 + newLetterCode % 122)\n",
        "\n",
        "caesarCipherEncryptor(\"xyz\", 2)"
      ],
      "execution_count": 4,
      "outputs": [
        {
          "output_type": "execute_result",
          "data": {
            "application/vnd.google.colaboratory.intrinsic+json": {
              "type": "string"
            },
            "text/plain": [
              "'zab'"
            ]
          },
          "metadata": {},
          "execution_count": 4
        }
      ]
    },
    {
      "cell_type": "markdown",
      "metadata": {
        "id": "0J_GmGpb3CMv"
      },
      "source": [
        "Time Complexity : **O(n)**\n",
        "\n",
        "Space Complexity : **O(n)**"
      ]
    },
    {
      "cell_type": "markdown",
      "metadata": {
        "id": "5KbLS_iJyndp"
      },
      "source": [
        "### What happens if the key is a bigger number?\n",
        "\n",
        "key = key % 26"
      ]
    },
    {
      "cell_type": "markdown",
      "metadata": {
        "id": "7DFK1BbH3J_X"
      },
      "source": [
        "## Solution 2"
      ]
    },
    {
      "cell_type": "code",
      "metadata": {
        "id": "lQFMW5iNzO9x"
      },
      "source": [
        "def caesarCipherEncryptor(string, key):\n",
        "    # Write your code here.\n",
        "    newLetters = []\n",
        "\tnewKey = key % 26\n",
        "\talphabet = list(\"abcdefghijklmnopqrstuvwxyz\")\n",
        "\tfor letter in string:\n",
        "\t\tnewLetters.append(getNewLetter(letter, newKey,alphabet))\n",
        "\treturn \"\".join(newLetters)\n",
        "\n",
        "def getNewLetter(letter, key, alphabet):\n",
        "\tnewLetterCode = alphabet.index(letter) + key\n",
        "\treturn alphabet[newLetterCode % 26]"
      ],
      "execution_count": null,
      "outputs": []
    },
    {
      "cell_type": "markdown",
      "metadata": {
        "id": "rqjp3vB73N0x"
      },
      "source": [
        "Time Complexity : **O(n)**\n",
        "\n",
        "Space Complexity : **O(n)**"
      ]
    },
    {
      "cell_type": "markdown",
      "metadata": {
        "id": "zR0-c9Cx4h-b"
      },
      "source": [
        "## Notes\n",
        "\n",
        "For Solution 2 of this problem, in the video explanation, we update the newLetterCode with the following formula if it's greater than 25:\n",
        "\n",
        "-1 + newLetterCode % 25\n",
        "\n",
        "This logic is actually flawed, because if newLetterCode % 25 happens to be equal to 0, then we'll be accessing a letter in the alphabet at index -1, which will throw an error in a lot of languages or simply return an incorrect answer in other languages.\n",
        "\n",
        "For example, this edge-case issue will occur with these inputs:\n",
        "\n",
        "string = \"z\"\n",
        "key = 25\n",
        "\n",
        "Instead, we need to use the following formula if the newLetterCode is greater than 25:\n",
        "\n",
        "newLetterCode % 26"
      ]
    },
    {
      "cell_type": "markdown",
      "metadata": {
        "id": "jzMBUEoi4sqo"
      },
      "source": [
        "## Why isn't this an issue in solution 1?\n",
        "\n",
        "In Solution 1, our formula is:\n",
        "\n",
        "96 + newLetterCode % 122\n",
        "Since we only actually apply this formula if newLetterCode is greater than 122, and since the key that's used to initially compute newLetterCode is always less than 26 (because it's modded by 26 at the beginning of the algorithm), we know that newLetterCode % 122 will never be equal to 0 (newLetterCode will always be between 123 and 147).\n",
        "\n",
        "Thus, we'll never compute a character from the char code 96, which would be equivalent to accessing a letter at index -1 in Solution 2."
      ]
    }
  ]
}
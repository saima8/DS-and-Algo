{
  "nbformat": 4,
  "nbformat_minor": 0,
  "metadata": {
    "colab": {
      "name": "Selection sort.ipynb",
      "provenance": [],
      "authorship_tag": "ABX9TyOfzcvOoWI+npCO3uF3tyH9",
      "include_colab_link": true
    },
    "kernelspec": {
      "name": "python3",
      "display_name": "Python 3"
    },
    "language_info": {
      "name": "python"
    }
  },
  "cells": [
    {
      "cell_type": "markdown",
      "metadata": {
        "id": "view-in-github",
        "colab_type": "text"
      },
      "source": [
        "<a href=\"https://colab.research.google.com/github/saima8/DS-and-Algo/blob/main/Selection_sort.ipynb\" target=\"_parent\"><img src=\"https://colab.research.google.com/assets/colab-badge.svg\" alt=\"Open In Colab\"/></a>"
      ]
    },
    {
      "cell_type": "code",
      "metadata": {
        "id": "jJFuYDtsEqL2"
      },
      "source": [
        "def selectionSort(array):\n",
        "    # Write your code here.\n",
        "    currentIdx = 0\n",
        "    while currentIdx < len(array) - 1:\n",
        "      smallestIdx = currentIdx\n",
        "      for i in range(currentIdx + 1, len(array)):\n",
        "        if array[smallestIdx] > array[i]:\n",
        "          smallestIdx = i\n",
        "      swap(currentIdx, smallestIdx, array)\n",
        "      currentIdx += 1\n",
        "    return array\n",
        "\n",
        "def swap(i, j, array):\n",
        "  array[i], array[j] = array[j], array[i]"
      ],
      "execution_count": 1,
      "outputs": []
    },
    {
      "cell_type": "code",
      "metadata": {
        "colab": {
          "base_uri": "https://localhost:8080/"
        },
        "id": "k6qLtPq5FhUJ",
        "outputId": "08dc0a8a-ecb9-4824-ee65-6f60e4a7a9dc"
      },
      "source": [
        "selectionSort([8, 5, 2, 9, 5, 6, 3])"
      ],
      "execution_count": 2,
      "outputs": [
        {
          "output_type": "execute_result",
          "data": {
            "text/plain": [
              "[2, 3, 5, 5, 6, 8, 9]"
            ]
          },
          "metadata": {},
          "execution_count": 2
        }
      ]
    },
    {
      "cell_type": "markdown",
      "metadata": {
        "id": "afrU8LyDFloz"
      },
      "source": [
        "**Best** : O(n^2) time | O(1) space\n",
        "\n",
        "**Avg**: O(n^2) time | O(1) space\n",
        "\n",
        "**worst**: O(n^2) time | O(1) space"
      ]
    }
  ]
}
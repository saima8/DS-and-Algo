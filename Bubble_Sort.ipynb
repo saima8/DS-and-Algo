{
  "nbformat": 4,
  "nbformat_minor": 0,
  "metadata": {
    "colab": {
      "name": "Bubble Sort.ipynb",
      "provenance": [],
      "authorship_tag": "ABX9TyMYNwsdrL6Ylnmx2CkQwbtS",
      "include_colab_link": true
    },
    "kernelspec": {
      "name": "python3",
      "display_name": "Python 3"
    },
    "language_info": {
      "name": "python"
    }
  },
  "cells": [
    {
      "cell_type": "markdown",
      "metadata": {
        "id": "view-in-github",
        "colab_type": "text"
      },
      "source": [
        "<a href=\"https://colab.research.google.com/github/saima8/DS-and-Algo/blob/main/Bubble_Sort.ipynb\" target=\"_parent\"><img src=\"https://colab.research.google.com/assets/colab-badge.svg\" alt=\"Open In Colab\"/></a>"
      ]
    },
    {
      "cell_type": "markdown",
      "metadata": {
        "id": "dTv_pkyslH01"
      },
      "source": [
        "## My Solution\n"
      ]
    },
    {
      "cell_type": "code",
      "metadata": {
        "colab": {
          "base_uri": "https://localhost:8080/"
        },
        "id": "jtq3JrGBk7aw",
        "outputId": "2993acc6-94a4-40f9-d02e-ee54eb1cfc29"
      },
      "source": [
        "def bubbleSort(array):\n",
        "    # Write your code here.\n",
        "    n = len(array)\n",
        "    for i in range(n):\n",
        "      for j in range(0, n-i-1):\n",
        "        if array[j] > array[j + 1]:\n",
        "          array[j], array[j + 1] = array[j + 1], array[j]\n",
        "    return array\n",
        "\n",
        "\n",
        "bubbleSort([8, 5, 2, 9, 5, 6, 3])"
      ],
      "execution_count": 2,
      "outputs": [
        {
          "output_type": "execute_result",
          "data": {
            "text/plain": [
              "[2, 3, 5, 5, 6, 8, 9]"
            ]
          },
          "metadata": {},
          "execution_count": 2
        }
      ]
    },
    {
      "cell_type": "markdown",
      "metadata": {
        "id": "nLftz_BilbUw"
      },
      "source": [
        "Time Complexity : **O(n^2)**\n",
        "\n",
        "Space Complexity : **O(1)**"
      ]
    },
    {
      "cell_type": "markdown",
      "metadata": {
        "id": "se8dbauulrmX"
      },
      "source": [
        "## Solution 1 "
      ]
    },
    {
      "cell_type": "code",
      "metadata": {
        "id": "CL1lderKlNwd"
      },
      "source": [
        "def bubbleSort(array):\n",
        "  isSorted = False\n",
        "  counter = 0\n",
        "  while not isSorted:\n",
        "    isSorted = True\n",
        "    for i in range(len(array - 1 - counter)):\n",
        "      if array[i] > array[i + 1]:\n",
        "        swap(i, i + 1, array)\n",
        "        isSorted = False\n",
        "    counter += 1\n",
        "  return array\n",
        "\n",
        "def swap(i, j, array):\n",
        "  array[i], array[j] = array[j], array[i]"
      ],
      "execution_count": 3,
      "outputs": []
    },
    {
      "cell_type": "markdown",
      "metadata": {
        "id": "MjHLJDh4pviR"
      },
      "source": [
        "Time Complexity : **O(n^2)**\n",
        "\n",
        "Space Complexity : **O(1)**"
      ]
    },
    {
      "cell_type": "markdown",
      "metadata": {
        "id": "cFB5Z_LppxVo"
      },
      "source": [
        "**Best :**\n",
        "\n",
        "Time Complexity : **O(n)** || Space Complexity : **O(1)**\n",
        "\n",
        "When input array is sorted.\n",
        "\n",
        "**Avg :**\n",
        "\n",
        "Time Complexity : **O(n^2)** || Space Complexity : **O(1)**\n",
        "\n",
        "Because we are looping through the array multiple times.\n",
        "\n",
        "**Worst :**\n",
        "\n",
        "Time Complexity : **O(n^2)** || Space Complexity : **O(1)**\n",
        "\n",
        "\n"
      ]
    }
  ]
}
{
  "nbformat": 4,
  "nbformat_minor": 0,
  "metadata": {
    "colab": {
      "name": "Three Number Sum.ipynb",
      "provenance": [],
      "authorship_tag": "ABX9TyNjaDrPXW7V1f81kmsl/Wdr",
      "include_colab_link": true
    },
    "kernelspec": {
      "name": "python3",
      "display_name": "Python 3"
    },
    "language_info": {
      "name": "python"
    }
  },
  "cells": [
    {
      "cell_type": "markdown",
      "metadata": {
        "id": "view-in-github",
        "colab_type": "text"
      },
      "source": [
        "<a href=\"https://colab.research.google.com/github/saima8/DS-and-Algo/blob/main/Three_Number_Sum.ipynb\" target=\"_parent\"><img src=\"https://colab.research.google.com/assets/colab-badge.svg\" alt=\"Open In Colab\"/></a>"
      ]
    },
    {
      "cell_type": "code",
      "metadata": {
        "colab": {
          "base_uri": "https://localhost:8080/"
        },
        "id": "M-5LybZ95d8z",
        "outputId": "d85f165a-ea48-4842-b729-d26ef63c8eba"
      },
      "source": [
        "array = [12, 3, 1, 2, -6, 5, -8, 6]\n",
        "target = 0\n",
        "\n",
        "for i in range(len(array)-1):\n",
        "  for j in range(len(array)-1):\n",
        "    for k in range(len(array)-1):\n",
        "      if target == array[j] + array[k] + array[i]:\n",
        "        print(i, j, k) "
      ],
      "execution_count": 3,
      "outputs": [
        {
          "output_type": "stream",
          "name": "stdout",
          "text": [
            "0 4 4\n",
            "1 1 4\n",
            "1 4 1\n",
            "1 5 6\n",
            "1 6 5\n",
            "2 4 5\n",
            "2 5 4\n",
            "4 0 4\n",
            "4 1 1\n",
            "4 2 5\n",
            "4 4 0\n",
            "4 5 2\n",
            "5 1 6\n",
            "5 2 4\n",
            "5 4 2\n",
            "5 6 1\n",
            "6 1 5\n",
            "6 5 1\n"
          ]
        }
      ]
    },
    {
      "cell_type": "code",
      "metadata": {
        "colab": {
          "base_uri": "https://localhost:8080/"
        },
        "id": "-zDe2qIUCidp",
        "outputId": "49c52c46-4ea2-403e-9377-aecf890efcff"
      },
      "source": [
        "def threeNumberSum(array, targetSum):\n",
        "\n",
        "    # Write your code here.\n",
        "  array.sort()\n",
        "  finalSum = []\n",
        "  \n",
        "  for i in range(len(array)-2):\n",
        "    currentNum = i\n",
        "    left = i + 1\n",
        "    right = len(array) - 1\n",
        "    while left < right:\n",
        "      if array[left] + array[right] + array[currentNum] == targetSum:\n",
        "        finalSum.append([array[currentNum], array[left], array[right]])\n",
        "        left += 1\n",
        "        right -= 1\n",
        "      elif array[left] + array[right] + array[currentNum] < targetSum:\n",
        "        left += 1\n",
        "      elif array[left] + array[right] + array[currentNum] > targetSum:\n",
        "        right -= 1\n",
        "  return finalSum\n",
        "\t\t\t\t\n",
        "array = [12, 3, 1, 2, -6, 5, -8, 6]\n",
        "targetSum = 0\n",
        "threeNumberSum(array, targetSum)"
      ],
      "execution_count": 13,
      "outputs": [
        {
          "output_type": "execute_result",
          "data": {
            "text/plain": [
              "[[-8, 2, 6], [-8, 3, 5], [-6, 1, 5]]"
            ]
          },
          "metadata": {},
          "execution_count": 13
        }
      ]
    },
    {
      "cell_type": "markdown",
      "metadata": {
        "id": "yIqleNXJFWWK"
      },
      "source": [
        "Time -> O(n^2)\n",
        "\n",
        "Space -> O(n)\n",
        "\n",
        "Notes\n",
        "\n",
        " The first step in the solution is to sort the input array. Why is the O(nlog(n)) runtime of the sorting step not reflected in the overall time complexity of the algorithm?\n",
        "\n",
        "The nested loops in the solution run in O(n^2) time; this dwarfs the O(nlog(n)) runtime of the sorting step and allows us to remove it from the final time complexity of the algorithm."
      ]
    }
  ]
}
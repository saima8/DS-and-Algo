{
  "nbformat": 4,
  "nbformat_minor": 0,
  "metadata": {
    "colab": {
      "name": "Two Number Sum.ipynb",
      "provenance": [],
      "authorship_tag": "ABX9TyNu6U83L67Ohq7lSec6w7nM",
      "include_colab_link": true
    },
    "kernelspec": {
      "name": "python3",
      "display_name": "Python 3"
    },
    "language_info": {
      "name": "python"
    }
  },
  "cells": [
    {
      "cell_type": "markdown",
      "metadata": {
        "id": "view-in-github",
        "colab_type": "text"
      },
      "source": [
        "<a href=\"https://colab.research.google.com/github/saima8/DS-and-Algo/blob/main/Two_Number_Sum.ipynb\" target=\"_parent\"><img src=\"https://colab.research.google.com/assets/colab-badge.svg\" alt=\"Open In Colab\"/></a>"
      ]
    },
    {
      "cell_type": "markdown",
      "metadata": {
        "id": "bm-81tZHKOS_"
      },
      "source": [
        "## Solution 1"
      ]
    },
    {
      "cell_type": "code",
      "metadata": {
        "colab": {
          "base_uri": "https://localhost:8080/"
        },
        "id": "tEtQTubm_Lm4",
        "outputId": "5f05a5e0-586a-4845-fe51-845f26d0cdcf"
      },
      "source": [
        "def twoNumberSum(array, targetSum):\n",
        "    # Write your code here.\n",
        "    for i in range (len(array) - 1):\n",
        "      firstNum = array[i]\n",
        "      for j in range (i + 1, len(array)):\n",
        "        secondNum = array[j]\n",
        "        if firstNum + secondNum == targetSum:\n",
        "          return [firstNum, secondNum]\n",
        "    return []\n",
        "\n",
        "twoNumberSum([3, 5, 8, 11, -1], 10) "
      ],
      "execution_count": 8,
      "outputs": [
        {
          "output_type": "execute_result",
          "data": {
            "text/plain": [
              "[11, -1]"
            ]
          },
          "metadata": {},
          "execution_count": 8
        }
      ]
    },
    {
      "cell_type": "markdown",
      "metadata": {
        "id": "T97ZZ9UFKARy"
      },
      "source": [
        "Time complexity = **O(n^2)**\n",
        "\n",
        "Space complexity = **O(1)**"
      ]
    },
    {
      "cell_type": "markdown",
      "metadata": {
        "id": "fyUY3wqAKSE-"
      },
      "source": [
        "## Solution 2"
      ]
    },
    {
      "cell_type": "code",
      "metadata": {
        "colab": {
          "base_uri": "https://localhost:8080/"
        },
        "id": "CaBDYZkhKM-1",
        "outputId": "3f93d3cd-3dc1-42a7-c7ab-f5070c457e72"
      },
      "source": [
        "def twoNumberSum(array, targetSum):\n",
        "    # Write your code here.\n",
        "    hashTable = {}\n",
        "\n",
        "    for i in array:\n",
        "        complement = targetSum - i\n",
        "        if complement in hashTable:\n",
        "            return [i,complement]\n",
        "        else:\n",
        "          hashTable[i] = True\n",
        "\t\t\t\n",
        "    return []\n",
        "\n",
        "twoNumberSum([3, 5, 8, 11, -1], 10) "
      ],
      "execution_count": 10,
      "outputs": [
        {
          "output_type": "execute_result",
          "data": {
            "text/plain": [
              "[-1, 11]"
            ]
          },
          "metadata": {},
          "execution_count": 10
        }
      ]
    },
    {
      "cell_type": "markdown",
      "metadata": {
        "id": "SZc4HhLjKXBG"
      },
      "source": [
        "Time complexity = **O(n)**\n",
        "\n",
        "Space complexity = **O(n)**\n",
        "\n",
        "This solution should be used when interviewer says, **Time has the most value than space**"
      ]
    },
    {
      "cell_type": "markdown",
      "metadata": {
        "id": "EaqsTwJCLAQv"
      },
      "source": [
        "## Solution 3"
      ]
    },
    {
      "cell_type": "code",
      "metadata": {
        "colab": {
          "base_uri": "https://localhost:8080/"
        },
        "id": "Gbb47NnQK_QU",
        "outputId": "72b09d2a-4193-489e-fc61-37f27186b026"
      },
      "source": [
        "def twoNumberSum(array, targetSum):\n",
        "    # Write your code here.\n",
        "    array.sort()\n",
        "    left = 0\n",
        "    right = len(array) - 1\n",
        "    while left < right:\n",
        "      currentSum = array[left] + array[right]\n",
        "      \n",
        "      if currentSum == targetSum:\n",
        "        return [array[left], array[right]]\n",
        "      elif currentSum < targetSum:\n",
        "        left += 1\n",
        "      elif currentSum > targetSum:\n",
        "        right -= 1\n",
        "    return []\n",
        "\t\t\t\n",
        "twoNumberSum([3, 5, 8, 11, -1], 10) "
      ],
      "execution_count": 12,
      "outputs": [
        {
          "output_type": "execute_result",
          "data": {
            "text/plain": [
              "[-1, 11]"
            ]
          },
          "metadata": {},
          "execution_count": 12
        }
      ]
    },
    {
      "cell_type": "markdown",
      "metadata": {
        "id": "0qwiFKR8LFPB"
      },
      "source": [
        "Time complexity = **O(nlog(n))**\n",
        "\n",
        "Space complexity = **O(1)**\n",
        "\n",
        "This solution should be used when interviewer says, **Space has the most value than time**"
      ]
    }
  ]
}
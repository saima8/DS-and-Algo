{
  "nbformat": 4,
  "nbformat_minor": 0,
  "metadata": {
    "colab": {
      "name": "Find Three Largest Numbers.ipynb",
      "provenance": [],
      "authorship_tag": "ABX9TyNbmgLNTZ1Q23hq4im3/z1p",
      "include_colab_link": true
    },
    "kernelspec": {
      "name": "python3",
      "display_name": "Python 3"
    },
    "language_info": {
      "name": "python"
    }
  },
  "cells": [
    {
      "cell_type": "markdown",
      "metadata": {
        "id": "view-in-github",
        "colab_type": "text"
      },
      "source": [
        "<a href=\"https://colab.research.google.com/github/saima8/DS-and-Algo/blob/main/Find_Three_Largest_Numbers.ipynb\" target=\"_parent\"><img src=\"https://colab.research.google.com/assets/colab-badge.svg\" alt=\"Open In Colab\"/></a>"
      ]
    },
    {
      "cell_type": "markdown",
      "metadata": {
        "id": "Rr1qa0o88Dd-"
      },
      "source": [
        "## Solution"
      ]
    },
    {
      "cell_type": "code",
      "metadata": {
        "colab": {
          "base_uri": "https://localhost:8080/"
        },
        "id": "8SuCXbbc6iwO",
        "outputId": "9a05c4e4-73d6-4fea-cd9b-68e50f3c104e"
      },
      "source": [
        "def findThreeLargestNumbers(array):\n",
        "  threeLargest = [None, None, None]\n",
        "  for num in array:\n",
        "    updateLargest(threeLargest, num)\n",
        "  return threeLargest\n",
        "\n",
        "def updateLargest(threeLargest, num):\n",
        "  if threeLargest[2] is None or num > threeLargest[2]:\n",
        "    shiftAndUpdate(threeLargest, num, 2)\n",
        "  elif threeLargest[1] is None or num > threeLargest[1]:\n",
        "    shiftAndUpdate(threeLargest, num, 1)\n",
        "  elif threeLargest[0] is None or num > threeLargest[0]:\n",
        "    shiftAndUpdate(threeLargest, num, 0)\n",
        "\n",
        "def shiftAndUpdate(array, num, idx):\n",
        "  for i in range (idx + 1):\n",
        "    if i == idx:\n",
        "      array[i] = num\n",
        "    else:\n",
        "      array[i] = array[i + 1]\n",
        "\n",
        "findThreeLargestNumbers([141, 1, 17, -7, -27, 18, 541, 8, 7, 7])"
      ],
      "execution_count": 3,
      "outputs": [
        {
          "output_type": "execute_result",
          "data": {
            "text/plain": [
              "[18, 141, 541]"
            ]
          },
          "metadata": {},
          "execution_count": 3
        }
      ]
    },
    {
      "cell_type": "markdown",
      "metadata": {
        "id": "5SIco9Jm8F7X"
      },
      "source": [
        "Time Complexity : **O(n)**\n",
        "\n",
        "Space Complexity : **O(1)**"
      ]
    },
    {
      "cell_type": "markdown",
      "metadata": {
        "id": "BWVOzBWa8QYq"
      },
      "source": [
        "**Can we just sort the input array and return the last three elements in the sorted array?**\n",
        "\n",
        "The best sorting algorithms run, on average, in O(nlog(n)) time; we can implement a more optimal, linear-time algorithm (an O(n)-time algorithm) by not sorting the input array."
      ]
    }
  ]
}
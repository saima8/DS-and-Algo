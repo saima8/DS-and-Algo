{
  "nbformat": 4,
  "nbformat_minor": 0,
  "metadata": {
    "colab": {
      "name": "Validate Sequence.ipynb",
      "provenance": [],
      "authorship_tag": "ABX9TyPaWakunJZSEXmlPnahxUfJ",
      "include_colab_link": true
    },
    "kernelspec": {
      "name": "python3",
      "display_name": "Python 3"
    },
    "language_info": {
      "name": "python"
    }
  },
  "cells": [
    {
      "cell_type": "markdown",
      "metadata": {
        "id": "view-in-github",
        "colab_type": "text"
      },
      "source": [
        "<a href=\"https://colab.research.google.com/github/saima8/DS-and-Algo/blob/main/Validate_Sequence.ipynb\" target=\"_parent\"><img src=\"https://colab.research.google.com/assets/colab-badge.svg\" alt=\"Open In Colab\"/></a>"
      ]
    },
    {
      "cell_type": "markdown",
      "metadata": {
        "id": "mv_Lz5dMdBmu"
      },
      "source": [
        "## Solution 1"
      ]
    },
    {
      "cell_type": "code",
      "metadata": {
        "colab": {
          "base_uri": "https://localhost:8080/"
        },
        "id": "rapqVR8sQdNT",
        "outputId": "4645cb8f-b3c2-4b91-97a6-05815189480e"
      },
      "source": [
        "def isValSeq (array, sequence):\n",
        "  arrIdx = 0\n",
        "  seqIdx = 0\n",
        "  while arrIdx < len(array) and seqIdx < len(sequence):\n",
        "    if array[arrIdx] == sequence[seqIdx]:\n",
        "      seqIdx += 1\n",
        "    arrIdx += 1\n",
        "\n",
        "  return seqIdx == len(sequence)\n",
        "\n",
        "isValSeq([5, 1, 22, 25, 6, -1, 8, 10], [1, 6, -1, 10])"
      ],
      "execution_count": 1,
      "outputs": [
        {
          "output_type": "execute_result",
          "data": {
            "text/plain": [
              "True"
            ]
          },
          "metadata": {},
          "execution_count": 1
        }
      ]
    },
    {
      "cell_type": "markdown",
      "metadata": {
        "id": "q1FjPlJ2d3GE"
      },
      "source": [
        "Time Complexity : **O(n)**\n",
        "\n",
        "Space Complexity : **O (1)**"
      ]
    },
    {
      "cell_type": "markdown",
      "metadata": {
        "id": "FKoKVDj8eEG9"
      },
      "source": [
        "# Solution 2"
      ]
    },
    {
      "cell_type": "code",
      "metadata": {
        "colab": {
          "base_uri": "https://localhost:8080/"
        },
        "id": "GGwZAyGReDLp",
        "outputId": "9a3e516c-d5fa-4fc2-a0c1-e31ccbec4be0"
      },
      "source": [
        "def isValSeq (array, sequence):\n",
        "  seIdx = 0\n",
        "\n",
        "  for value in array:\n",
        "    if seIdx == len(sequence):\n",
        "      break\n",
        "    if sequence[seIdx] == value:\n",
        "      seIdx += 1\n",
        "\n",
        "  return seIdx == len(sequence)\n",
        "\n",
        "isValSeq([5, 1, 22, 25, 6, -1, 8, 10], [1, 6, -1, 10])"
      ],
      "execution_count": 5,
      "outputs": [
        {
          "output_type": "execute_result",
          "data": {
            "text/plain": [
              "True"
            ]
          },
          "metadata": {},
          "execution_count": 5
        }
      ]
    },
    {
      "cell_type": "markdown",
      "metadata": {
        "id": "kYdb2F0beJ6Y"
      },
      "source": [
        "Time Complexity : **O(n)**\n",
        "\n",
        "Space Complexity : **O (1)**"
      ]
    }
  ]
}
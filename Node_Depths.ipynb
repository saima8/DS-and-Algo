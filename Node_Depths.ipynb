{
  "nbformat": 4,
  "nbformat_minor": 0,
  "metadata": {
    "colab": {
      "name": "Node Depths.ipynb",
      "provenance": [],
      "authorship_tag": "ABX9TyPR0d7ymU5LcG2MoKHgN1lh",
      "include_colab_link": true
    },
    "kernelspec": {
      "name": "python3",
      "display_name": "Python 3"
    },
    "language_info": {
      "name": "python"
    }
  },
  "cells": [
    {
      "cell_type": "markdown",
      "metadata": {
        "id": "view-in-github",
        "colab_type": "text"
      },
      "source": [
        "<a href=\"https://colab.research.google.com/github/saima8/DS-and-Algo/blob/main/Node_Depths.ipynb\" target=\"_parent\"><img src=\"https://colab.research.google.com/assets/colab-badge.svg\" alt=\"Open In Colab\"/></a>"
      ]
    },
    {
      "cell_type": "markdown",
      "metadata": {
        "id": "smxPnPlayTa8"
      },
      "source": [
        "## Solution 1"
      ]
    },
    {
      "cell_type": "code",
      "metadata": {
        "id": "-i7GcBYRyIvE"
      },
      "source": [
        "def nodeDepths(root):\n",
        "    # Write your code here.\n",
        "    sumOfDepths = 0\n",
        "    stack = [{\"node\": root, \"depth\": 0}]\n",
        "    while len(stack) > 0:\n",
        "      nodeInfo = stack.pop()\n",
        "      node, depth = nodeInfo[\"node\"], nodeInfo['depth']\n",
        "      if node is None:\n",
        "        continue\n",
        "      sumOfDepths += depth\n",
        "      stack.append({\"node\": node.left, \"depth\": depth + 1})\n",
        "      stack.append({\"node\": node.right, \"depth\": depth + 1})\n",
        "    return sumOfDepths\n",
        "\n",
        "\n",
        "# This is the class of the input binary tree.\n",
        "class BinaryTree:\n",
        "    def __init__(self, value):\n",
        "        self.value = value\n",
        "        self.left = None\n",
        "        self.right = None\n"
      ],
      "execution_count": 2,
      "outputs": []
    },
    {
      "cell_type": "markdown",
      "metadata": {
        "id": "SgDKVkvuyjdz"
      },
      "source": [
        "## Solution 2"
      ]
    },
    {
      "cell_type": "code",
      "metadata": {
        "id": "8QEDj_HRyjDn"
      },
      "source": [
        "def nodeDepths(root, depth=0):\n",
        "    # Write your code here.\n",
        "    if root is None:\n",
        "      return 0\n",
        "    return depth + nodeDepths(root.left, depth + 1) + nodeDepths(root.right, depth + 1)\n",
        "\n",
        "\n",
        "# This is the class of the input binary tree.\n",
        "class BinaryTree:\n",
        "    def __init__(self, value):\n",
        "        self.value = value\n",
        "        self.left = None\n",
        "        self.right = None\n"
      ],
      "execution_count": 4,
      "outputs": []
    },
    {
      "cell_type": "markdown",
      "metadata": {
        "id": "BbjzQzsyyyHC"
      },
      "source": [
        "## For both\n",
        "\n",
        "Time Complexity: **O(n)**\n",
        "\n",
        "Space Complexity: **O(h)**  - height of the tree"
      ]
    }
  ]
}
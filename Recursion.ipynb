{
  "nbformat": 4,
  "nbformat_minor": 0,
  "metadata": {
    "colab": {
      "name": "Recursion.ipynb",
      "provenance": [],
      "authorship_tag": "ABX9TyP0lb5tBkvoaMDswwVYXCKF",
      "include_colab_link": true
    },
    "kernelspec": {
      "name": "python3",
      "display_name": "Python 3"
    },
    "language_info": {
      "name": "python"
    }
  },
  "cells": [
    {
      "cell_type": "markdown",
      "metadata": {
        "id": "view-in-github",
        "colab_type": "text"
      },
      "source": [
        "<a href=\"https://colab.research.google.com/github/saima8/DS-and-Algo/blob/main/Recursion.ipynb\" target=\"_parent\"><img src=\"https://colab.research.google.com/assets/colab-badge.svg\" alt=\"Open In Colab\"/></a>"
      ]
    },
    {
      "cell_type": "markdown",
      "metadata": {
        "id": "lSPZfBkssr2w"
      },
      "source": [
        "# Recursion\n",
        "\n",
        "write a recursive function \"listsum\" that takes a list of integers and returns the sum of all integers in the list."
      ]
    },
    {
      "cell_type": "code",
      "metadata": {
        "colab": {
          "base_uri": "https://localhost:8080/"
        },
        "id": "CwhFAfxHsBqV",
        "outputId": "ce6eea4d-3b88-4bed-dcdc-c950ad5e142c"
      },
      "source": [
        "def listsum(al):\n",
        "  if len(al) == 1:\n",
        "    return al[0]\n",
        "  \n",
        "  else:\n",
        "    return al[0] + listsum(al[1:])\n",
        "\n",
        "ans = listsum([1,2,3,4])\n",
        "print(ans)"
      ],
      "execution_count": 2,
      "outputs": [
        {
          "output_type": "stream",
          "name": "stdout",
          "text": [
            "10\n"
          ]
        }
      ]
    }
  ]
}
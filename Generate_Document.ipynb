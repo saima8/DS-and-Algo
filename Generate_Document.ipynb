{
  "nbformat": 4,
  "nbformat_minor": 0,
  "metadata": {
    "colab": {
      "name": "Generate Document.ipynb",
      "provenance": [],
      "authorship_tag": "ABX9TyPsaL8p4ZlsXCg2Twl4i03K",
      "include_colab_link": true
    },
    "kernelspec": {
      "name": "python3",
      "display_name": "Python 3"
    },
    "language_info": {
      "name": "python"
    }
  },
  "cells": [
    {
      "cell_type": "markdown",
      "metadata": {
        "id": "view-in-github",
        "colab_type": "text"
      },
      "source": [
        "<a href=\"https://colab.research.google.com/github/saima8/DS-and-Algo/blob/main/Generate_Document.ipynb\" target=\"_parent\"><img src=\"https://colab.research.google.com/assets/colab-badge.svg\" alt=\"Open In Colab\"/></a>"
      ]
    },
    {
      "cell_type": "markdown",
      "metadata": {
        "id": "rukr5qyzkm--"
      },
      "source": [
        "## Solution 1 (Least Optimal way)"
      ]
    },
    {
      "cell_type": "code",
      "metadata": {
        "id": "DCGJb3mzkUYS"
      },
      "source": [
        "def generateDocument(characters, document):\n",
        "    # Write your code here.\n",
        "    for character in document:\n",
        "      documentFrequency = countCharacterFreq(character, document)\n",
        "      charactersFrequency = countCharacterFreq(character, characters)\n",
        "      if documentFrequency > charactersFrequency:\n",
        "        return False\n",
        "    return True\n",
        "\t\n",
        "def countCharacterFreq(character, target):\n",
        "\tfrequency = 0\n",
        "\tfor char in target:\n",
        "\t\tif char == character:\n",
        "\t\t\tfrequency += 1\n",
        "\treturn frequency"
      ],
      "execution_count": 10,
      "outputs": []
    },
    {
      "cell_type": "markdown",
      "metadata": {
        "id": "1b0bRAy5nun1"
      },
      "source": [
        "Time: O(m*(n + m)) \n",
        "\n",
        "Space: O(1)"
      ]
    },
    {
      "cell_type": "markdown",
      "metadata": {
        "id": "fYVGNpkhpblT"
      },
      "source": [
        "## Solution 2"
      ]
    },
    {
      "cell_type": "code",
      "metadata": {
        "id": "TYJDXMfppWOr"
      },
      "source": [
        "def generateDocument(characters, document):\n",
        "    # Write your code here.\n",
        "    alreadyCounted = set()\n",
        "\t\n",
        "    for character in document:\n",
        "      if character in alreadyCounted:\n",
        "        continue\n",
        "        \n",
        "      documentFre = countCharFre(character, document)\n",
        "      charactersFre = countCharFre(character, characters)\n",
        "      if documentFre > charactersFre:\n",
        "        return False\n",
        "      \n",
        "      alreadyCounted.add(character)\n",
        "      \n",
        "    return True\n",
        "def countCharFre(character, target):\n",
        "\tfrequency = 0\n",
        "\tfor char in target:\n",
        "\t\tif char == character:\n",
        "\t\t\tfrequency += 1\n",
        "\t\t\t\n",
        "\treturn frequency\n"
      ],
      "execution_count": 12,
      "outputs": []
    },
    {
      "cell_type": "markdown",
      "metadata": {
        "id": "emzpQP0muvJ8"
      },
      "source": [
        "Time: O(c*(n+m))\n",
        "\n",
        "c = number of unique characters in the document\n",
        "\n",
        "Space: **O(c)**"
      ]
    },
    {
      "cell_type": "markdown",
      "metadata": {
        "id": "uZqsrlXavca-"
      },
      "source": [
        "## Solution 3 (Best Optimal)"
      ]
    },
    {
      "cell_type": "code",
      "metadata": {
        "id": "a1Zoj1vbtlOQ"
      },
      "source": [
        "def generateDocument(characters, document):\n",
        "    # Write your code here.\n",
        "    charCounts = {}\n",
        "\t\n",
        "    for character in characters:\n",
        "      if character not in charCounts:\n",
        "        charCounts[character] = 0\n",
        "        \n",
        "      charCounts[character] += 1\n",
        "      \n",
        "    for character in document:\n",
        "      if character not in charCounts or charCounts[character]== 0:\n",
        "        return False\n",
        "      \n",
        "      charCounts[character] -= 1\n",
        "    return True\n"
      ],
      "execution_count": 14,
      "outputs": []
    },
    {
      "cell_type": "markdown",
      "metadata": {
        "id": "4mrpKOrAxkbm"
      },
      "source": [
        "Time: O(n+m)\n",
        "\n",
        "Space: **O(c)**"
      ]
    }
  ]
}
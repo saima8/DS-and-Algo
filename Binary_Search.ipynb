{
  "nbformat": 4,
  "nbformat_minor": 0,
  "metadata": {
    "colab": {
      "name": "Binary Search.ipynb",
      "provenance": [],
      "authorship_tag": "ABX9TyPF1mKz4gqGGU0d7GlJJlcD",
      "include_colab_link": true
    },
    "kernelspec": {
      "name": "python3",
      "display_name": "Python 3"
    },
    "language_info": {
      "name": "python"
    }
  },
  "cells": [
    {
      "cell_type": "markdown",
      "metadata": {
        "id": "view-in-github",
        "colab_type": "text"
      },
      "source": [
        "<a href=\"https://colab.research.google.com/github/saima8/DS-and-Algo/blob/main/Binary_Search.ipynb\" target=\"_parent\"><img src=\"https://colab.research.google.com/assets/colab-badge.svg\" alt=\"Open In Colab\"/></a>"
      ]
    },
    {
      "cell_type": "markdown",
      "metadata": {
        "id": "A_h8JMb3j12p"
      },
      "source": [
        "## Solution 1 (Recursively)"
      ]
    },
    {
      "cell_type": "code",
      "metadata": {
        "id": "INxt9-pOeNp8"
      },
      "source": [
        "def binarySearch(array, target):\n",
        "    # Write your code here.\n",
        "    return helper(array, target, 0, len(array) - 1)\n",
        "\n",
        "def helper(array, target, left, right):\n",
        "  if left > right:\n",
        "    return -1\n",
        "  middle = (left + right) // 2\n",
        "  potentialMatch = array[middle]\n",
        "  if target == potentialMatch:\n",
        "    return middle\n",
        "  elif target < potential:\n",
        "    return helper(array, target, left, middle -1)\n",
        "  else:\n",
        "    return helper(array, target,middle + 1, right )\n"
      ],
      "execution_count": 12,
      "outputs": []
    },
    {
      "cell_type": "markdown",
      "metadata": {
        "id": "S-_EF8_-j05I"
      },
      "source": [
        "Time Complexity : **O(log(n))**\n",
        "\n",
        "Space Complexity : **O(log(n))**"
      ]
    },
    {
      "cell_type": "markdown",
      "metadata": {
        "id": "L3VogJXvk8uG"
      },
      "source": [
        "**Notes: **\n",
        "\n"
      ]
    },
    {
      "cell_type": "markdown",
      "metadata": {
        "id": "J_Xntw-Hj6lI"
      },
      "source": [
        "## Solution 2 (Iteratively)"
      ]
    },
    {
      "cell_type": "code",
      "metadata": {
        "id": "i0JNnjK6j9re"
      },
      "source": [
        "def binarySearch(array, target):\n",
        "    # Write your code here.\n",
        "    return helper(array, target, 0, len(array) - 1)\n",
        "\n",
        "def helper(array, target, left, right):\n",
        "  while left <= right:\n",
        "    middle = (left + right) // 2\n",
        "    potentialMatch = array[middle]\n",
        "    if target == potentialMatch:\n",
        "      return middle\n",
        "    elif target < potential:\n",
        "      right =  middle -1\n",
        "    else:\n",
        "      left = middle + 1\n",
        "  return -1\n"
      ],
      "execution_count": 13,
      "outputs": []
    },
    {
      "cell_type": "markdown",
      "metadata": {
        "id": "xjoe5sFjkOV8"
      },
      "source": [
        "Time Complexity : **O(log(n))**\n",
        "\n",
        "Space Complexity : **O(1)**"
      ]
    }
  ]
}